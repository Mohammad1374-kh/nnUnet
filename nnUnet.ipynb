{
  "nbformat": 4,
  "nbformat_minor": 0,
  "metadata": {
    "colab": {
      "provenance": [],
      "gpuType": "T4",
      "machine_shape": "hm"
    },
    "kernelspec": {
      "name": "python3",
      "display_name": "Python 3"
    },
    "language_info": {
      "name": "python"
    },
    "accelerator": "GPU"
  },
  "cells": [
    {
      "cell_type": "code",
      "source": [
        "#!rm -rf /content/nnUNet_dirs/nnUNet_raw/nnUNet_tests/gt/labelsTs"
      ],
      "metadata": {
        "id": "z6jNUXlU6Y-8"
      },
      "execution_count": null,
      "outputs": []
    },
    {
      "cell_type": "code",
      "source": [
        "#!tar -xvf /content/dataset/Task02_Heart.tar"
      ],
      "metadata": {
        "id": "s3EikyX_1R-3"
      },
      "execution_count": null,
      "outputs": []
    },
    {
      "cell_type": "code",
      "source": [
        "# # ## make sure the dataset has the correct naming convention\n",
        "# import os\n",
        "\n",
        "# # Path to your imagesTr folder\n",
        "# folder_path = '/content/nnUNet_raw/Dataset300_Heart/imagesTs'\n",
        "\n",
        "# # Loop through all files in the folder\n",
        "# for filename in os.listdir(folder_path):\n",
        "#     # Check if the file ends with .nii\n",
        "#     if filename.endswith('.nii'):\n",
        "#         # Get the full path of the file\n",
        "#         old_file_path = os.path.join(folder_path, filename)\n",
        "\n",
        "#         # Split the filename and extension\n",
        "#         base_name, ext = os.path.splitext(filename)\n",
        "\n",
        "#         # Create the new file name with _0000 before the .nii extension\n",
        "#         new_file_name = f\"{base_name}_0000{ext}\"\n",
        "\n",
        "#         # Get the new file path\n",
        "#         new_file_path = os.path.join(folder_path, new_file_name)\n",
        "\n",
        "#         # Rename the file\n",
        "#         os.rename(old_file_path, new_file_path)\n",
        "#         print(f\"Renamed: {old_file_path} to {new_file_path}\")\n"
      ],
      "metadata": {
        "id": "Xk159fmwBX_s"
      },
      "execution_count": null,
      "outputs": []
    },
    {
      "cell_type": "markdown",
      "source": [
        "# Setting required enviornment variables for nnUnet"
      ],
      "metadata": {
        "id": "hTM0MeQs3Jxe"
      }
    },
    {
      "cell_type": "code",
      "source": [
        "import os\n",
        "\n",
        "# Set the environment variables\n",
        "os.environ['nnUNet_raw'] = '/content/nnUNet_raw'\n",
        "os.environ['nnUNet_preprocessed'] = '/content/nnUNet_preprocessed'\n",
        "os.environ['nnUNet_results'] = '/content/nnUNet_results'\n",
        "\n",
        "# Verify the environment variables are set\n",
        "print(f\"nnUNet_raw: {os.environ['nnUNet_raw']}\")\n",
        "print(f\"nnUNet_preprocessed: {os.environ['nnUNet_preprocessed']}\")\n",
        "print(f\"nnUNet_results: {os.environ['nnUNet_results']}\")"
      ],
      "metadata": {
        "colab": {
          "base_uri": "https://localhost:8080/"
        },
        "id": "vMldfsc5xFuk",
        "outputId": "c5e69927-19a0-435f-e839-7a755171abe8"
      },
      "execution_count": null,
      "outputs": [
        {
          "output_type": "stream",
          "name": "stdout",
          "text": [
            "nnUNet_raw: /content/nnUNet_raw\n",
            "nnUNet_preprocessed: /content/nnUNet_preprocessed\n",
            "nnUNet_results: /content/nnUNet_results\n"
          ]
        }
      ]
    },
    {
      "cell_type": "markdown",
      "source": [
        "# Unzipping the dataset\n",
        "The dataset should be put in the folder nnUnet with the structure mentioned in the [article](https://pycad.co/nnunet-for-medical-image-segmentation/)"
      ],
      "metadata": {
        "id": "4CXwhnj-3RuO"
      }
    },
    {
      "cell_type": "code",
      "source": [
        "import zipfile\n",
        "# Extract the dataset\n",
        "output_path = '/content/labelsTs.zip'\n",
        "\n",
        "with zipfile.ZipFile(output_path, 'r') as zip_ref:\n",
        "    zip_ref.extractall('gt')\n",
        "\n",
        "print(\"Dataset extracted!\")"
      ],
      "metadata": {
        "colab": {
          "base_uri": "https://localhost:8080/"
        },
        "id": "NlhuaO16DqyE",
        "outputId": "ec0d5f77-873a-45cd-912f-73bb27ee450a"
      },
      "execution_count": null,
      "outputs": [
        {
          "output_type": "stream",
          "name": "stdout",
          "text": [
            "Dataset extracted!\n"
          ]
        }
      ]
    },
    {
      "cell_type": "markdown",
      "source": [
        "# Installing required libraries"
      ],
      "metadata": {
        "id": "4pXCVpU53rBZ"
      }
    },
    {
      "cell_type": "code",
      "execution_count": null,
      "metadata": {
        "colab": {
          "base_uri": "https://localhost:8080/"
        },
        "id": "ZnJeOC6bt_US",
        "outputId": "31c73987-7845-4e29-fe15-cae863b4b96b"
      },
      "outputs": [
        {
          "output_type": "stream",
          "name": "stdout",
          "text": [
            "Requirement already satisfied: torch in /usr/local/lib/python3.10/dist-packages (2.4.1+cu121)\n",
            "Requirement already satisfied: torchvision in /usr/local/lib/python3.10/dist-packages (0.19.1+cu121)\n",
            "Requirement already satisfied: filelock in /usr/local/lib/python3.10/dist-packages (from torch) (3.16.1)\n",
            "Requirement already satisfied: typing-extensions>=4.8.0 in /usr/local/lib/python3.10/dist-packages (from torch) (4.12.2)\n",
            "Requirement already satisfied: sympy in /usr/local/lib/python3.10/dist-packages (from torch) (1.13.3)\n",
            "Requirement already satisfied: networkx in /usr/local/lib/python3.10/dist-packages (from torch) (3.3)\n",
            "Requirement already satisfied: jinja2 in /usr/local/lib/python3.10/dist-packages (from torch) (3.1.4)\n",
            "Requirement already satisfied: fsspec in /usr/local/lib/python3.10/dist-packages (from torch) (2024.6.1)\n",
            "Requirement already satisfied: numpy in /usr/local/lib/python3.10/dist-packages (from torchvision) (1.26.4)\n",
            "Requirement already satisfied: pillow!=8.3.*,>=5.3.0 in /usr/local/lib/python3.10/dist-packages (from torchvision) (10.4.0)\n",
            "Requirement already satisfied: MarkupSafe>=2.0 in /usr/local/lib/python3.10/dist-packages (from jinja2->torch) (2.1.5)\n",
            "Requirement already satisfied: mpmath<1.4,>=1.1.0 in /usr/local/lib/python3.10/dist-packages (from sympy->torch) (1.3.0)\n"
          ]
        }
      ],
      "source": [
        "!pip install torch torchvision -U"
      ]
    },
    {
      "cell_type": "code",
      "source": [
        "!pip install nnunetv2"
      ],
      "metadata": {
        "colab": {
          "base_uri": "https://localhost:8080/",
          "height": 1000
        },
        "id": "Qz4a7i1bup7P",
        "outputId": "25e6e1c2-6cac-434d-993a-12b8e3ebd826"
      },
      "execution_count": null,
      "outputs": [
        {
          "output_type": "stream",
          "name": "stdout",
          "text": [
            "Collecting nnunetv2\n",
            "  Downloading nnunetv2-2.5.1.tar.gz (196 kB)\n",
            "\u001b[?25l     \u001b[90m━━━━━━━━━━━━━━━━━━━━━━━━━━━━━━━━━━━━━━━━\u001b[0m \u001b[32m0.0/197.0 kB\u001b[0m \u001b[31m?\u001b[0m eta \u001b[36m-:--:--\u001b[0m\r\u001b[2K     \u001b[90m━━━━━━━━━━━━━━━━━━━━━━━━━━━━━━━━━━━━━━━━\u001b[0m \u001b[32m197.0/197.0 kB\u001b[0m \u001b[31m13.2 MB/s\u001b[0m eta \u001b[36m0:00:00\u001b[0m\n",
            "\u001b[?25h  Installing build dependencies ... \u001b[?25l\u001b[?25hdone\n",
            "  Getting requirements to build wheel ... \u001b[?25l\u001b[?25hdone\n",
            "  Preparing metadata (pyproject.toml) ... \u001b[?25l\u001b[?25hdone\n",
            "Requirement already satisfied: torch>=2.1.2 in /usr/local/lib/python3.10/dist-packages (from nnunetv2) (2.4.1+cu121)\n",
            "Collecting acvl-utils<0.3,>=0.2 (from nnunetv2)\n",
            "  Downloading acvl_utils-0.2.tar.gz (18 kB)\n",
            "  Preparing metadata (setup.py) ... \u001b[?25l\u001b[?25hdone\n",
            "Collecting dynamic-network-architectures<0.4,>=0.3.1 (from nnunetv2)\n",
            "  Downloading dynamic_network_architectures-0.3.1.tar.gz (20 kB)\n",
            "  Preparing metadata (setup.py) ... \u001b[?25l\u001b[?25hdone\n",
            "Requirement already satisfied: tqdm in /usr/local/lib/python3.10/dist-packages (from nnunetv2) (4.66.5)\n",
            "Collecting dicom2nifti (from nnunetv2)\n",
            "  Downloading dicom2nifti-2.5.0-py3-none-any.whl.metadata (1.3 kB)\n",
            "Requirement already satisfied: scipy in /usr/local/lib/python3.10/dist-packages (from nnunetv2) (1.13.1)\n",
            "Collecting batchgenerators>=0.25 (from nnunetv2)\n",
            "  Downloading batchgenerators-0.25.tar.gz (61 kB)\n",
            "\u001b[2K     \u001b[90m━━━━━━━━━━━━━━━━━━━━━━━━━━━━━━━━━━━━━━━━\u001b[0m \u001b[32m61.7/61.7 kB\u001b[0m \u001b[31m6.4 MB/s\u001b[0m eta \u001b[36m0:00:00\u001b[0m\n",
            "\u001b[?25h  Preparing metadata (setup.py) ... \u001b[?25l\u001b[?25hdone\n",
            "Requirement already satisfied: numpy in /usr/local/lib/python3.10/dist-packages (from nnunetv2) (1.26.4)\n",
            "Requirement already satisfied: scikit-learn in /usr/local/lib/python3.10/dist-packages (from nnunetv2) (1.5.2)\n",
            "Requirement already satisfied: scikit-image>=0.19.3 in /usr/local/lib/python3.10/dist-packages (from nnunetv2) (0.24.0)\n",
            "Collecting SimpleITK>=2.2.1 (from nnunetv2)\n",
            "  Downloading SimpleITK-2.4.0-cp310-cp310-manylinux_2_17_x86_64.manylinux2014_x86_64.whl.metadata (7.9 kB)\n",
            "Requirement already satisfied: pandas in /usr/local/lib/python3.10/dist-packages (from nnunetv2) (2.2.2)\n",
            "Requirement already satisfied: graphviz in /usr/local/lib/python3.10/dist-packages (from nnunetv2) (0.20.3)\n",
            "Requirement already satisfied: tifffile in /usr/local/lib/python3.10/dist-packages (from nnunetv2) (2024.9.20)\n",
            "Requirement already satisfied: requests in /usr/local/lib/python3.10/dist-packages (from nnunetv2) (2.32.3)\n",
            "Requirement already satisfied: nibabel in /usr/local/lib/python3.10/dist-packages (from nnunetv2) (5.2.1)\n",
            "Requirement already satisfied: matplotlib in /usr/local/lib/python3.10/dist-packages (from nnunetv2) (3.7.1)\n",
            "Requirement already satisfied: seaborn in /usr/local/lib/python3.10/dist-packages (from nnunetv2) (0.13.1)\n",
            "Collecting imagecodecs (from nnunetv2)\n",
            "  Downloading imagecodecs-2024.9.22-cp310-cp310-manylinux_2_17_x86_64.manylinux2014_x86_64.whl.metadata (20 kB)\n",
            "Collecting yacs (from nnunetv2)\n",
            "  Downloading yacs-0.1.8-py3-none-any.whl.metadata (639 bytes)\n",
            "Collecting batchgeneratorsv2>=0.2 (from nnunetv2)\n",
            "  Downloading batchgeneratorsv2-0.2.1.tar.gz (34 kB)\n",
            "  Installing build dependencies ... \u001b[?25l\u001b[?25hdone\n",
            "  Getting requirements to build wheel ... \u001b[?25l\u001b[?25hdone\n",
            "  Preparing metadata (pyproject.toml) ... \u001b[?25l\u001b[?25hdone\n",
            "Requirement already satisfied: einops in /usr/local/lib/python3.10/dist-packages (from nnunetv2) (0.8.0)\n",
            "Collecting connected-components-3d (from acvl-utils<0.3,>=0.2->nnunetv2)\n",
            "  Downloading connected_components_3d-3.18.0-cp310-cp310-manylinux_2_17_x86_64.manylinux2014_x86_64.whl.metadata (31 kB)\n",
            "Requirement already satisfied: pillow>=7.1.2 in /usr/local/lib/python3.10/dist-packages (from batchgenerators>=0.25->nnunetv2) (10.4.0)\n",
            "Requirement already satisfied: future in /usr/local/lib/python3.10/dist-packages (from batchgenerators>=0.25->nnunetv2) (1.0.0)\n",
            "Collecting unittest2 (from batchgenerators>=0.25->nnunetv2)\n",
            "  Downloading unittest2-1.1.0-py2.py3-none-any.whl.metadata (15 kB)\n",
            "Requirement already satisfied: threadpoolctl in /usr/local/lib/python3.10/dist-packages (from batchgenerators>=0.25->nnunetv2) (3.5.0)\n",
            "Collecting fft-conv-pytorch (from batchgeneratorsv2>=0.2->nnunetv2)\n",
            "  Downloading fft_conv_pytorch-1.2.0-py3-none-any.whl.metadata (2.8 kB)\n",
            "Requirement already satisfied: networkx>=2.8 in /usr/local/lib/python3.10/dist-packages (from scikit-image>=0.19.3->nnunetv2) (3.3)\n",
            "Requirement already satisfied: imageio>=2.33 in /usr/local/lib/python3.10/dist-packages (from scikit-image>=0.19.3->nnunetv2) (2.35.1)\n",
            "Requirement already satisfied: packaging>=21 in /usr/local/lib/python3.10/dist-packages (from scikit-image>=0.19.3->nnunetv2) (24.1)\n",
            "Requirement already satisfied: lazy-loader>=0.4 in /usr/local/lib/python3.10/dist-packages (from scikit-image>=0.19.3->nnunetv2) (0.4)\n",
            "Requirement already satisfied: filelock in /usr/local/lib/python3.10/dist-packages (from torch>=2.1.2->nnunetv2) (3.16.1)\n",
            "Requirement already satisfied: typing-extensions>=4.8.0 in /usr/local/lib/python3.10/dist-packages (from torch>=2.1.2->nnunetv2) (4.12.2)\n",
            "Requirement already satisfied: sympy in /usr/local/lib/python3.10/dist-packages (from torch>=2.1.2->nnunetv2) (1.13.3)\n",
            "Requirement already satisfied: jinja2 in /usr/local/lib/python3.10/dist-packages (from torch>=2.1.2->nnunetv2) (3.1.4)\n",
            "Requirement already satisfied: fsspec in /usr/local/lib/python3.10/dist-packages (from torch>=2.1.2->nnunetv2) (2024.6.1)\n",
            "Collecting pydicom>=2.2.0 (from dicom2nifti->nnunetv2)\n",
            "  Downloading pydicom-3.0.1-py3-none-any.whl.metadata (9.4 kB)\n",
            "Collecting python-gdcm (from dicom2nifti->nnunetv2)\n",
            "  Downloading python_gdcm-3.0.24.1-cp310-cp310-manylinux_2_17_x86_64.manylinux2014_x86_64.whl.metadata (3.7 kB)\n",
            "Requirement already satisfied: contourpy>=1.0.1 in /usr/local/lib/python3.10/dist-packages (from matplotlib->nnunetv2) (1.3.0)\n",
            "Requirement already satisfied: cycler>=0.10 in /usr/local/lib/python3.10/dist-packages (from matplotlib->nnunetv2) (0.12.1)\n",
            "Requirement already satisfied: fonttools>=4.22.0 in /usr/local/lib/python3.10/dist-packages (from matplotlib->nnunetv2) (4.54.1)\n",
            "Requirement already satisfied: kiwisolver>=1.0.1 in /usr/local/lib/python3.10/dist-packages (from matplotlib->nnunetv2) (1.4.7)\n",
            "Requirement already satisfied: pyparsing>=2.3.1 in /usr/local/lib/python3.10/dist-packages (from matplotlib->nnunetv2) (3.1.4)\n",
            "Requirement already satisfied: python-dateutil>=2.7 in /usr/local/lib/python3.10/dist-packages (from matplotlib->nnunetv2) (2.8.2)\n",
            "Requirement already satisfied: pytz>=2020.1 in /usr/local/lib/python3.10/dist-packages (from pandas->nnunetv2) (2024.2)\n",
            "Requirement already satisfied: tzdata>=2022.7 in /usr/local/lib/python3.10/dist-packages (from pandas->nnunetv2) (2024.2)\n",
            "Requirement already satisfied: charset-normalizer<4,>=2 in /usr/local/lib/python3.10/dist-packages (from requests->nnunetv2) (3.3.2)\n",
            "Requirement already satisfied: idna<4,>=2.5 in /usr/local/lib/python3.10/dist-packages (from requests->nnunetv2) (3.10)\n",
            "Requirement already satisfied: urllib3<3,>=1.21.1 in /usr/local/lib/python3.10/dist-packages (from requests->nnunetv2) (2.2.3)\n",
            "Requirement already satisfied: certifi>=2017.4.17 in /usr/local/lib/python3.10/dist-packages (from requests->nnunetv2) (2024.8.30)\n",
            "Requirement already satisfied: joblib>=1.2.0 in /usr/local/lib/python3.10/dist-packages (from scikit-learn->nnunetv2) (1.4.2)\n",
            "Requirement already satisfied: PyYAML in /usr/local/lib/python3.10/dist-packages (from yacs->nnunetv2) (6.0.2)\n",
            "Requirement already satisfied: six>=1.5 in /usr/local/lib/python3.10/dist-packages (from python-dateutil>=2.7->matplotlib->nnunetv2) (1.16.0)\n",
            "Requirement already satisfied: MarkupSafe>=2.0 in /usr/local/lib/python3.10/dist-packages (from jinja2->torch>=2.1.2->nnunetv2) (2.1.5)\n",
            "Requirement already satisfied: mpmath<1.4,>=1.1.0 in /usr/local/lib/python3.10/dist-packages (from sympy->torch>=2.1.2->nnunetv2) (1.3.0)\n",
            "Collecting argparse (from unittest2->batchgenerators>=0.25->nnunetv2)\n",
            "  Downloading argparse-1.4.0-py2.py3-none-any.whl.metadata (2.8 kB)\n",
            "Collecting traceback2 (from unittest2->batchgenerators>=0.25->nnunetv2)\n",
            "  Downloading traceback2-1.4.0-py2.py3-none-any.whl.metadata (1.5 kB)\n",
            "Collecting linecache2 (from traceback2->unittest2->batchgenerators>=0.25->nnunetv2)\n",
            "  Downloading linecache2-1.0.0-py2.py3-none-any.whl.metadata (1000 bytes)\n",
            "Downloading SimpleITK-2.4.0-cp310-cp310-manylinux_2_17_x86_64.manylinux2014_x86_64.whl (52.4 MB)\n",
            "\u001b[2K   \u001b[90m━━━━━━━━━━━━━━━━━━━━━━━━━━━━━━━━━━━━━━━━\u001b[0m \u001b[32m52.4/52.4 MB\u001b[0m \u001b[31m44.2 MB/s\u001b[0m eta \u001b[36m0:00:00\u001b[0m\n",
            "\u001b[?25hDownloading dicom2nifti-2.5.0-py3-none-any.whl (43 kB)\n",
            "\u001b[2K   \u001b[90m━━━━━━━━━━━━━━━━━━━━━━━━━━━━━━━━━━━━━━━━\u001b[0m \u001b[32m43.6/43.6 kB\u001b[0m \u001b[31m3.5 MB/s\u001b[0m eta \u001b[36m0:00:00\u001b[0m\n",
            "\u001b[?25hDownloading imagecodecs-2024.9.22-cp310-cp310-manylinux_2_17_x86_64.manylinux2014_x86_64.whl (43.3 MB)\n",
            "\u001b[2K   \u001b[90m━━━━━━━━━━━━━━━━━━━━━━━━━━━━━━━━━━━━━━━━\u001b[0m \u001b[32m43.3/43.3 MB\u001b[0m \u001b[31m49.7 MB/s\u001b[0m eta \u001b[36m0:00:00\u001b[0m\n",
            "\u001b[?25hDownloading yacs-0.1.8-py3-none-any.whl (14 kB)\n",
            "Downloading pydicom-3.0.1-py3-none-any.whl (2.4 MB)\n",
            "\u001b[2K   \u001b[90m━━━━━━━━━━━━━━━━━━━━━━━━━━━━━━━━━━━━━━━━\u001b[0m \u001b[32m2.4/2.4 MB\u001b[0m \u001b[31m90.8 MB/s\u001b[0m eta \u001b[36m0:00:00\u001b[0m\n",
            "\u001b[?25hDownloading connected_components_3d-3.18.0-cp310-cp310-manylinux_2_17_x86_64.manylinux2014_x86_64.whl (3.7 MB)\n",
            "\u001b[2K   \u001b[90m━━━━━━━━━━━━━━━━━━━━━━━━━━━━━━━━━━━━━━━━\u001b[0m \u001b[32m3.7/3.7 MB\u001b[0m \u001b[31m83.2 MB/s\u001b[0m eta \u001b[36m0:00:00\u001b[0m\n",
            "\u001b[?25hDownloading fft_conv_pytorch-1.2.0-py3-none-any.whl (6.8 kB)\n",
            "Downloading python_gdcm-3.0.24.1-cp310-cp310-manylinux_2_17_x86_64.manylinux2014_x86_64.whl (13.1 MB)\n",
            "\u001b[2K   \u001b[90m━━━━━━━━━━━━━━━━━━━━━━━━━━━━━━━━━━━━━━━━\u001b[0m \u001b[32m13.1/13.1 MB\u001b[0m \u001b[31m95.7 MB/s\u001b[0m eta \u001b[36m0:00:00\u001b[0m\n",
            "\u001b[?25hDownloading unittest2-1.1.0-py2.py3-none-any.whl (96 kB)\n",
            "\u001b[2K   \u001b[90m━━━━━━━━━━━━━━━━━━━━━━━━━━━━━━━━━━━━━━━━\u001b[0m \u001b[32m96.4/96.4 kB\u001b[0m \u001b[31m9.4 MB/s\u001b[0m eta \u001b[36m0:00:00\u001b[0m\n",
            "\u001b[?25hDownloading argparse-1.4.0-py2.py3-none-any.whl (23 kB)\n",
            "Downloading traceback2-1.4.0-py2.py3-none-any.whl (16 kB)\n",
            "Downloading linecache2-1.0.0-py2.py3-none-any.whl (12 kB)\n",
            "Building wheels for collected packages: nnunetv2, acvl-utils, batchgenerators, batchgeneratorsv2, dynamic-network-architectures\n",
            "  Building wheel for nnunetv2 (pyproject.toml) ... \u001b[?25l\u001b[?25hdone\n",
            "  Created wheel for nnunetv2: filename=nnunetv2-2.5.1-py3-none-any.whl size=264366 sha256=4a9dae2238b74d0795c7c0219c7f18ba3ea2249d1dcc1b764cf0cdb50e15aa3e\n",
            "  Stored in directory: /root/.cache/pip/wheels/5d/d6/90/88743b341922dc9f6795742570aac83a1eaa55f77ee676a5a6\n",
            "  Building wheel for acvl-utils (setup.py) ... \u001b[?25l\u001b[?25hdone\n",
            "  Created wheel for acvl-utils: filename=acvl_utils-0.2-py3-none-any.whl size=22438 sha256=f7da9c3d9c0f0495aa1f77e164e438b6957c4700b864a148d44fac0594fab52e\n",
            "  Stored in directory: /root/.cache/pip/wheels/ad/f0/84/52e8897591e66339bd2796681b9540b6c5e453c1461fa92a9e\n",
            "  Building wheel for batchgenerators (setup.py) ... \u001b[?25l\u001b[?25hdone\n",
            "  Created wheel for batchgenerators: filename=batchgenerators-0.25-py3-none-any.whl size=89008 sha256=037cdd141954be38994cd176b2ea6145128580f95a2e2f4f21631a160dc8d7a4\n",
            "  Stored in directory: /root/.cache/pip/wheels/9e/b0/1b/40912fb58eb167b86cbc444ddb2e6ba382b248215295f932e2\n",
            "  Building wheel for batchgeneratorsv2 (pyproject.toml) ... \u001b[?25l\u001b[?25hdone\n",
            "  Created wheel for batchgeneratorsv2: filename=batchgeneratorsv2-0.2.1-py3-none-any.whl size=45184 sha256=ccf0f50ed8c4fdbfa4c635ece992a4443213a67412993af9b629a8c1097951b7\n",
            "  Stored in directory: /root/.cache/pip/wheels/a7/20/91/33993997db216e7b946d379850c47837d2478be49377a6cb41\n",
            "  Building wheel for dynamic-network-architectures (setup.py) ... \u001b[?25l\u001b[?25hdone\n",
            "  Created wheel for dynamic-network-architectures: filename=dynamic_network_architectures-0.3.1-py3-none-any.whl size=30049 sha256=854b442777c259ef188c31b06a587b8b34569376cc10a514bcdfd8d23bcd4dda\n",
            "  Stored in directory: /root/.cache/pip/wheels/55/1b/13/a6419c8dbf998b9343710355ec3edc5c8e24d9b7b22eec95fb\n",
            "Successfully built nnunetv2 acvl-utils batchgenerators batchgeneratorsv2 dynamic-network-architectures\n",
            "Installing collected packages: SimpleITK, linecache2, argparse, yacs, traceback2, python-gdcm, pydicom, imagecodecs, connected-components-3d, unittest2, dicom2nifti, fft-conv-pytorch, dynamic-network-architectures, batchgenerators, batchgeneratorsv2, acvl-utils, nnunetv2\n",
            "Successfully installed SimpleITK-2.4.0 acvl-utils-0.2 argparse-1.4.0 batchgenerators-0.25 batchgeneratorsv2-0.2.1 connected-components-3d-3.18.0 dicom2nifti-2.5.0 dynamic-network-architectures-0.3.1 fft-conv-pytorch-1.2.0 imagecodecs-2024.9.22 linecache2-1.0.0 nnunetv2-2.5.1 pydicom-3.0.1 python-gdcm-3.0.24.1 traceback2-1.4.0 unittest2-1.1.0 yacs-0.1.8\n"
          ]
        },
        {
          "output_type": "display_data",
          "data": {
            "application/vnd.colab-display-data+json": {
              "pip_warning": {
                "packages": [
                  "argparse"
                ]
              },
              "id": "50bfd37c80ef42eeaff8ee467b3cb623"
            }
          },
          "metadata": {}
        }
      ]
    },
    {
      "cell_type": "code",
      "source": [
        "!pip install triton"
      ],
      "metadata": {
        "colab": {
          "base_uri": "https://localhost:8080/"
        },
        "id": "brguSX8GW936",
        "outputId": "5fbc3991-66b2-4ae6-a8dc-a30e1d9fcfb4"
      },
      "execution_count": null,
      "outputs": [
        {
          "output_type": "stream",
          "name": "stdout",
          "text": [
            "Collecting triton\n",
            "  Downloading triton-3.0.0-1-cp310-cp310-manylinux2014_x86_64.manylinux_2_17_x86_64.whl.metadata (1.3 kB)\n",
            "Requirement already satisfied: filelock in /usr/local/lib/python3.10/dist-packages (from triton) (3.16.1)\n",
            "Downloading triton-3.0.0-1-cp310-cp310-manylinux2014_x86_64.manylinux_2_17_x86_64.whl (209.4 MB)\n",
            "\u001b[2K   \u001b[90m━━━━━━━━━━━━━━━━━━━━━━━━━━━━━━━━━━━━━━━━\u001b[0m \u001b[32m209.4/209.4 MB\u001b[0m \u001b[31m4.6 MB/s\u001b[0m eta \u001b[36m0:00:00\u001b[0m\n",
            "\u001b[?25hInstalling collected packages: triton\n",
            "Successfully installed triton-3.0.0\n"
          ]
        }
      ]
    },
    {
      "cell_type": "code",
      "source": [
        "#!nnUNetv2_convert_MSD_dataset -h"
      ],
      "metadata": {
        "colab": {
          "base_uri": "https://localhost:8080/"
        },
        "id": "VaVPn-7Qw0gd",
        "outputId": "4b914922-262b-4e47-ac15-7764426a4baa"
      },
      "execution_count": null,
      "outputs": [
        {
          "output_type": "stream",
          "name": "stdout",
          "text": [
            "usage: nnUNetv2_convert_MSD_dataset [-h] -i I [-overwrite_id OVERWRITE_ID] [-np NP]\n",
            "\n",
            "options:\n",
            "  -h, --help            show this help message and exit\n",
            "  -i I                  Downloaded and extracted MSD dataset folder. CANNOT be nnUNetv1 dataset!\n",
            "                        Example: /home/fabian/Downloads/Task05_Prostate\n",
            "  -overwrite_id OVERWRITE_ID\n",
            "                        Overwrite the dataset id. If not set we use the id of the MSD task\n",
            "                        (inferred from folder name). Only use this if you already have an\n",
            "                        equivalently numbered dataset!\n",
            "  -np NP                Number of processes used. Default: 8\n"
          ]
        }
      ]
    },
    {
      "cell_type": "markdown",
      "source": [
        "# Preprocessing the dataset structure to match the nnUnet's"
      ],
      "metadata": {
        "id": "RRiuML-H347U"
      }
    },
    {
      "cell_type": "code",
      "source": [
        "!nnUNetv2_plan_and_preprocess -d 400 --verify_dataset_integrity #-np 1"
      ],
      "metadata": {
        "id": "8jdtM3pWwl6w",
        "colab": {
          "base_uri": "https://localhost:8080/"
        },
        "outputId": "7f1d6206-83ae-4548-9b9d-9371c1e69883"
      },
      "execution_count": null,
      "outputs": [
        {
          "output_type": "stream",
          "name": "stdout",
          "text": [
            "Fingerprint extraction...\n",
            "Dataset400_Spleen\n",
            "Using <class 'nnunetv2.imageio.nibabel_reader_writer.NibabelIO'> as reader/writer\n",
            "\n",
            "####################\n",
            "verify_dataset_integrity Done. \n",
            "If you didn't see any error messages then your dataset is most likely OK!\n",
            "####################\n",
            "\n",
            "Using <class 'nnunetv2.imageio.nibabel_reader_writer.NibabelIO'> as reader/writer\n",
            "100% 30/30 [00:09<00:00,  3.10it/s]\n",
            "Experiment planning...\n",
            "\n",
            "############################\n",
            "INFO: You are using the old nnU-Net default planner. We have updated our recommendations. Please consider using those instead! Read more here: https://github.com/MIC-DKFZ/nnUNet/blob/master/documentation/resenc_presets.md\n",
            "############################\n",
            "\n",
            "Attempting to find 3d_lowres config. \n",
            "Current spacing: [2.5        0.81977545 0.81977545]. \n",
            "Current patch size: (56, 192, 192). \n",
            "Current median shape: [145.         497.08737864 497.08737864]\n",
            "Attempting to find 3d_lowres config. \n",
            "Current spacing: [2.5        0.84436872 0.84436872]. \n",
            "Current patch size: (56, 192, 192). \n",
            "Current median shape: [145.         482.60910548 482.60910548]\n",
            "Attempting to find 3d_lowres config. \n",
            "Current spacing: [2.5        0.86969978 0.86969978]. \n",
            "Current patch size: (56, 192, 192). \n",
            "Current median shape: [145.         468.55252959 468.55252959]\n",
            "Attempting to find 3d_lowres config. \n",
            "Current spacing: [2.5        0.89579077 0.89579077]. \n",
            "Current patch size: (56, 192, 192). \n",
            "Current median shape: [145.         454.90536853 454.90536853]\n",
            "Attempting to find 3d_lowres config. \n",
            "Current spacing: [2.5        0.92266449 0.92266449]. \n",
            "Current patch size: (56, 192, 192). \n",
            "Current median shape: [145.        441.6556976 441.6556976]\n",
            "Attempting to find 3d_lowres config. \n",
            "Current spacing: [2.5        0.95034443 0.95034443]. \n",
            "Current patch size: (64, 192, 160). \n",
            "Current median shape: [145.         428.79193942 428.79193942]\n",
            "Attempting to find 3d_lowres config. \n",
            "Current spacing: [2.5        0.97885476 0.97885476]. \n",
            "Current patch size: (64, 192, 160). \n",
            "Current median shape: [145.         416.30285381 416.30285381]\n",
            "Attempting to find 3d_lowres config. \n",
            "Current spacing: [2.5       1.0082204 1.0082204]. \n",
            "Current patch size: (64, 192, 160). \n",
            "Current median shape: [145.         404.17752797 404.17752797]\n",
            "Attempting to find 3d_lowres config. \n",
            "Current spacing: [2.5        1.03846702 1.03846702]. \n",
            "Current patch size: (64, 192, 160). \n",
            "Current median shape: [145.         392.40536696 392.40536696]\n",
            "Attempting to find 3d_lowres config. \n",
            "Current spacing: [2.5        1.06962103 1.06962103]. \n",
            "Current patch size: (64, 192, 160). \n",
            "Current median shape: [145.         380.97608443 380.97608443]\n",
            "Attempting to find 3d_lowres config. \n",
            "Current spacing: [2.5        1.10170966 1.10170966]. \n",
            "Current patch size: (64, 192, 160). \n",
            "Current median shape: [145.         369.87969362 369.87969362]\n",
            "Attempting to find 3d_lowres config. \n",
            "Current spacing: [2.5        1.13476095 1.13476095]. \n",
            "Current patch size: (64, 192, 160). \n",
            "Current median shape: [145.         359.10649866 359.10649866]\n",
            "Attempting to find 3d_lowres config. \n",
            "Current spacing: [2.5        1.16880378 1.16880378]. \n",
            "Current patch size: (64, 192, 160). \n",
            "Current median shape: [145.         348.64708608 348.64708608]\n",
            "Attempting to find 3d_lowres config. \n",
            "Current spacing: [2.5        1.20386789 1.20386789]. \n",
            "Current patch size: (80, 160, 160). \n",
            "Current median shape: [145.         338.49231658 338.49231658]\n",
            "Attempting to find 3d_lowres config. \n",
            "Current spacing: [2.5        1.23998393 1.23998393]. \n",
            "Current patch size: (80, 160, 160). \n",
            "Current median shape: [145.         328.63331707 328.63331707]\n",
            "Attempting to find 3d_lowres config. \n",
            "Current spacing: [2.5        1.27718344 1.27718344]. \n",
            "Current patch size: (80, 192, 160). \n",
            "Current median shape: [145.         319.06147288 319.06147288]\n",
            "Attempting to find 3d_lowres config. \n",
            "Current spacing: [2.575      1.31549895 1.31549895]. \n",
            "Current patch size: (80, 192, 160). \n",
            "Current median shape: [140.77669903 309.76842027 309.76842027]\n",
            "Attempting to find 3d_lowres config. \n",
            "Current spacing: [2.65225    1.35496391 1.35496391]. \n",
            "Current patch size: (80, 192, 160). \n",
            "Current median shape: [136.67640682 300.7460391  300.7460391 ]\n",
            "Attempting to find 3d_lowres config. \n",
            "Current spacing: [2.7318175  1.39561283 1.39561283]. \n",
            "Current patch size: (80, 192, 160). \n",
            "Current median shape: [132.69554061 291.98644573 291.98644573]\n",
            "Attempting to find 3d_lowres config. \n",
            "Current spacing: [2.81377203 1.43748122 1.43748122]. \n",
            "Current patch size: (80, 192, 160). \n",
            "Current median shape: [128.83062195 283.48198614 283.48198614]\n",
            "Attempting to find 3d_lowres config. \n",
            "Current spacing: [2.89818519 1.48060565 1.48060565]. \n",
            "Current patch size: (80, 192, 160). \n",
            "Current median shape: [125.07827374 275.22522927 275.22522927]\n",
            "2D U-Net configuration:\n",
            "{'data_identifier': 'nnUNetPlans_2d', 'preprocessor_name': 'DefaultPreprocessor', 'batch_size': 12, 'patch_size': (512, 512), 'median_image_size_in_voxels': array([512., 512.]), 'spacing': array([0.7958985, 0.7958985]), 'normalization_schemes': ['CTNormalization'], 'use_mask_for_norm': [False], 'resampling_fn_data': 'resample_data_or_seg_to_shape', 'resampling_fn_seg': 'resample_data_or_seg_to_shape', 'resampling_fn_data_kwargs': {'is_seg': False, 'order': 3, 'order_z': 0, 'force_separate_z': None}, 'resampling_fn_seg_kwargs': {'is_seg': True, 'order': 1, 'order_z': 0, 'force_separate_z': None}, 'resampling_fn_probabilities': 'resample_data_or_seg_to_shape', 'resampling_fn_probabilities_kwargs': {'is_seg': False, 'order': 1, 'order_z': 0, 'force_separate_z': None}, 'architecture': {'network_class_name': 'dynamic_network_architectures.architectures.unet.PlainConvUNet', 'arch_kwargs': {'n_stages': 8, 'features_per_stage': (32, 64, 128, 256, 512, 512, 512, 512), 'conv_op': 'torch.nn.modules.conv.Conv2d', 'kernel_sizes': ((3, 3), (3, 3), (3, 3), (3, 3), (3, 3), (3, 3), (3, 3), (3, 3)), 'strides': ((1, 1), (2, 2), (2, 2), (2, 2), (2, 2), (2, 2), (2, 2), (2, 2)), 'n_conv_per_stage': (2, 2, 2, 2, 2, 2, 2, 2), 'n_conv_per_stage_decoder': (2, 2, 2, 2, 2, 2, 2), 'conv_bias': True, 'norm_op': 'torch.nn.modules.instancenorm.InstanceNorm2d', 'norm_op_kwargs': {'eps': 1e-05, 'affine': True}, 'dropout_op': None, 'dropout_op_kwargs': None, 'nonlin': 'torch.nn.LeakyReLU', 'nonlin_kwargs': {'inplace': True}}, '_kw_requires_import': ('conv_op', 'norm_op', 'dropout_op', 'nonlin')}, 'batch_dice': True}\n",
            "\n",
            "Using <class 'nnunetv2.imageio.nibabel_reader_writer.NibabelIO'> as reader/writer\n",
            "3D lowres U-Net configuration:\n",
            "{'data_identifier': 'nnUNetPlans_3d_lowres', 'preprocessor_name': 'DefaultPreprocessor', 'batch_size': 2, 'patch_size': (80, 192, 160), 'median_image_size_in_voxels': (125, 275, 275), 'spacing': array([2.89818519, 1.48060565, 1.48060565]), 'normalization_schemes': ['CTNormalization'], 'use_mask_for_norm': [False], 'resampling_fn_data': 'resample_data_or_seg_to_shape', 'resampling_fn_seg': 'resample_data_or_seg_to_shape', 'resampling_fn_data_kwargs': {'is_seg': False, 'order': 3, 'order_z': 0, 'force_separate_z': None}, 'resampling_fn_seg_kwargs': {'is_seg': True, 'order': 1, 'order_z': 0, 'force_separate_z': None}, 'resampling_fn_probabilities': 'resample_data_or_seg_to_shape', 'resampling_fn_probabilities_kwargs': {'is_seg': False, 'order': 1, 'order_z': 0, 'force_separate_z': None}, 'architecture': {'network_class_name': 'dynamic_network_architectures.architectures.unet.PlainConvUNet', 'arch_kwargs': {'n_stages': 6, 'features_per_stage': (32, 64, 128, 256, 320, 320), 'conv_op': 'torch.nn.modules.conv.Conv3d', 'kernel_sizes': ((3, 3, 3), (3, 3, 3), (3, 3, 3), (3, 3, 3), (3, 3, 3), (3, 3, 3)), 'strides': ((1, 1, 1), (2, 2, 2), (2, 2, 2), (2, 2, 2), (2, 2, 2), (1, 2, 2)), 'n_conv_per_stage': (2, 2, 2, 2, 2, 2), 'n_conv_per_stage_decoder': (2, 2, 2, 2, 2), 'conv_bias': True, 'norm_op': 'torch.nn.modules.instancenorm.InstanceNorm3d', 'norm_op_kwargs': {'eps': 1e-05, 'affine': True}, 'dropout_op': None, 'dropout_op_kwargs': None, 'nonlin': 'torch.nn.LeakyReLU', 'nonlin_kwargs': {'inplace': True}}, '_kw_requires_import': ('conv_op', 'norm_op', 'dropout_op', 'nonlin')}, 'batch_dice': False, 'next_stage': '3d_cascade_fullres'}\n",
            "\n",
            "3D fullres U-Net configuration:\n",
            "{'data_identifier': 'nnUNetPlans_3d_fullres', 'preprocessor_name': 'DefaultPreprocessor', 'batch_size': 2, 'patch_size': (56, 192, 192), 'median_image_size_in_voxels': array([145., 512., 512.]), 'spacing': array([2.5      , 0.7958985, 0.7958985]), 'normalization_schemes': ['CTNormalization'], 'use_mask_for_norm': [False], 'resampling_fn_data': 'resample_data_or_seg_to_shape', 'resampling_fn_seg': 'resample_data_or_seg_to_shape', 'resampling_fn_data_kwargs': {'is_seg': False, 'order': 3, 'order_z': 0, 'force_separate_z': None}, 'resampling_fn_seg_kwargs': {'is_seg': True, 'order': 1, 'order_z': 0, 'force_separate_z': None}, 'resampling_fn_probabilities': 'resample_data_or_seg_to_shape', 'resampling_fn_probabilities_kwargs': {'is_seg': False, 'order': 1, 'order_z': 0, 'force_separate_z': None}, 'architecture': {'network_class_name': 'dynamic_network_architectures.architectures.unet.PlainConvUNet', 'arch_kwargs': {'n_stages': 6, 'features_per_stage': (32, 64, 128, 256, 320, 320), 'conv_op': 'torch.nn.modules.conv.Conv3d', 'kernel_sizes': ((1, 3, 3), (3, 3, 3), (3, 3, 3), (3, 3, 3), (3, 3, 3), (3, 3, 3)), 'strides': ((1, 1, 1), (1, 2, 2), (2, 2, 2), (2, 2, 2), (2, 2, 2), (1, 2, 2)), 'n_conv_per_stage': (2, 2, 2, 2, 2, 2), 'n_conv_per_stage_decoder': (2, 2, 2, 2, 2), 'conv_bias': True, 'norm_op': 'torch.nn.modules.instancenorm.InstanceNorm3d', 'norm_op_kwargs': {'eps': 1e-05, 'affine': True}, 'dropout_op': None, 'dropout_op_kwargs': None, 'nonlin': 'torch.nn.LeakyReLU', 'nonlin_kwargs': {'inplace': True}}, '_kw_requires_import': ('conv_op', 'norm_op', 'dropout_op', 'nonlin')}, 'batch_dice': True}\n",
            "\n",
            "Plans were saved to /content/nnUNet_preprocessed/Dataset400_Spleen/nnUNetPlans.json\n",
            "Preprocessing...\n",
            "Preprocessing dataset Dataset400_Spleen\n",
            "Configuration: 2d...\n",
            "100% 30/30 [01:16<00:00,  2.55s/it]\n",
            "Configuration: 3d_fullres...\n",
            "100% 30/30 [02:15<00:00,  4.50s/it]\n",
            "Configuration: 3d_lowres...\n",
            "100% 30/30 [00:42<00:00,  1.43s/it]\n"
          ]
        }
      ]
    },
    {
      "cell_type": "markdown",
      "source": [
        "# Training"
      ],
      "metadata": {
        "id": "Iy5wonMSNW8S"
      }
    },
    {
      "cell_type": "code",
      "source": [
        "!nnUNetv2_train 400 3d_fullres all -tr nnUNetTrainer_20epochs"
      ],
      "metadata": {
        "id": "Kzqw33SNupwa",
        "colab": {
          "base_uri": "https://localhost:8080/"
        },
        "outputId": "9ba403d4-fb90-4083-cee8-1d6a76b591a1"
      },
      "execution_count": null,
      "outputs": [
        {
          "output_type": "stream",
          "name": "stdout",
          "text": [
            "\n",
            "############################\n",
            "INFO: You are using the old nnU-Net default plans. We have updated our recommendations. Please consider using those instead! Read more here: https://github.com/MIC-DKFZ/nnUNet/blob/master/documentation/resenc_presets.md\n",
            "############################\n",
            "\n",
            "Using device: cuda:0\n",
            "/usr/local/lib/python3.10/dist-packages/nnunetv2/training/nnUNetTrainer/nnUNetTrainer.py:164: FutureWarning: `torch.cuda.amp.GradScaler(args...)` is deprecated. Please use `torch.amp.GradScaler('cuda', args...)` instead.\n",
            "  self.grad_scaler = GradScaler() if self.device.type == 'cuda' else None\n",
            "\n",
            "#######################################################################\n",
            "Please cite the following paper when using nnU-Net:\n",
            "Isensee, F., Jaeger, P. F., Kohl, S. A., Petersen, J., & Maier-Hein, K. H. (2021). nnU-Net: a self-configuring method for deep learning-based biomedical image segmentation. Nature methods, 18(2), 203-211.\n",
            "#######################################################################\n",
            "\n",
            "2024-10-03 15:12:21.819518: do_dummy_2d_data_aug: True\n",
            "using pin_memory on device 0\n",
            "using pin_memory on device 0\n",
            "2024-10-03 15:12:32.151910: Using torch.compile...\n",
            "/usr/local/lib/python3.10/dist-packages/torch/optim/lr_scheduler.py:60: UserWarning: The verbose parameter is deprecated. Please use get_last_lr() to access the learning rate.\n",
            "  warnings.warn(\n",
            "\n",
            "This is the configuration used by this training:\n",
            "Configuration name: 3d_fullres\n",
            " {'data_identifier': 'nnUNetPlans_3d_fullres', 'preprocessor_name': 'DefaultPreprocessor', 'batch_size': 2, 'patch_size': [56, 192, 192], 'median_image_size_in_voxels': [145.0, 512.0, 512.0], 'spacing': [2.5, 0.7958984971046448, 0.7958984971046448], 'normalization_schemes': ['CTNormalization'], 'use_mask_for_norm': [False], 'resampling_fn_data': 'resample_data_or_seg_to_shape', 'resampling_fn_seg': 'resample_data_or_seg_to_shape', 'resampling_fn_data_kwargs': {'is_seg': False, 'order': 3, 'order_z': 0, 'force_separate_z': None}, 'resampling_fn_seg_kwargs': {'is_seg': True, 'order': 1, 'order_z': 0, 'force_separate_z': None}, 'resampling_fn_probabilities': 'resample_data_or_seg_to_shape', 'resampling_fn_probabilities_kwargs': {'is_seg': False, 'order': 1, 'order_z': 0, 'force_separate_z': None}, 'architecture': {'network_class_name': 'dynamic_network_architectures.architectures.unet.PlainConvUNet', 'arch_kwargs': {'n_stages': 6, 'features_per_stage': [32, 64, 128, 256, 320, 320], 'conv_op': 'torch.nn.modules.conv.Conv3d', 'kernel_sizes': [[1, 3, 3], [3, 3, 3], [3, 3, 3], [3, 3, 3], [3, 3, 3], [3, 3, 3]], 'strides': [[1, 1, 1], [1, 2, 2], [2, 2, 2], [2, 2, 2], [2, 2, 2], [1, 2, 2]], 'n_conv_per_stage': [2, 2, 2, 2, 2, 2], 'n_conv_per_stage_decoder': [2, 2, 2, 2, 2], 'conv_bias': True, 'norm_op': 'torch.nn.modules.instancenorm.InstanceNorm3d', 'norm_op_kwargs': {'eps': 1e-05, 'affine': True}, 'dropout_op': None, 'dropout_op_kwargs': None, 'nonlin': 'torch.nn.LeakyReLU', 'nonlin_kwargs': {'inplace': True}, 'deep_supervision': True}, '_kw_requires_import': ['conv_op', 'norm_op', 'dropout_op', 'nonlin']}, 'batch_dice': True} \n",
            "\n",
            "These are the global plan.json settings:\n",
            " {'dataset_name': 'Dataset400_Spleen', 'plans_name': 'nnUNetPlans', 'original_median_spacing_after_transp': [5.0, 0.7958984971046448, 0.7958984971046448], 'original_median_shape_after_transp': [89, 512, 512], 'image_reader_writer': 'NibabelIO', 'transpose_forward': [0, 1, 2], 'transpose_backward': [0, 1, 2], 'experiment_planner_used': 'ExperimentPlanner', 'label_manager': 'LabelManager', 'foreground_intensity_properties_per_channel': {'0': {'max': 1038.0, 'mean': 90.9473876953125, 'median': 96.0, 'min': -521.0, 'percentile_00_5': -40.0, 'percentile_99_5': 175.0, 'std': 40.7623405456543}}} \n",
            "\n",
            "2024-10-03 15:12:35.245561: unpacking dataset...\n",
            "2024-10-03 15:13:21.711912: unpacking done...\n",
            "2024-10-03 15:13:21.715202: Unable to plot network architecture: nnUNet_compile is enabled!\n",
            "2024-10-03 15:13:21.782360: \n",
            "2024-10-03 15:13:21.782457: Epoch 0\n",
            "2024-10-03 15:13:21.782610: Current learning rate: 0.01\n",
            "W1003 15:13:36.690000 134233792705152 torch/fx/experimental/symbolic_shapes.py:4449] [0/0] xindex is not in var_ranges, defaulting to unknown range.\n",
            "W1003 15:13:36.862000 134233792705152 torch/fx/experimental/symbolic_shapes.py:4449] [0/0] xindex is not in var_ranges, defaulting to unknown range.\n",
            "W1003 15:13:36.948000 134233792705152 torch/fx/experimental/symbolic_shapes.py:4449] [0/0] xindex is not in var_ranges, defaulting to unknown range.\n",
            "W1003 15:13:37.027000 134233792705152 torch/fx/experimental/symbolic_shapes.py:4449] [0/0] xindex is not in var_ranges, defaulting to unknown range.\n",
            "W1003 15:13:37.108000 134233792705152 torch/fx/experimental/symbolic_shapes.py:4449] [0/0] xindex is not in var_ranges, defaulting to unknown range.\n",
            "W1003 15:14:02.741000 134229452801600 torch/fx/experimental/symbolic_shapes.py:4449] [0/0] d0 is not in var_ranges, defaulting to unknown range.\n",
            "W1003 15:14:03.200000 134229452801600 torch/fx/experimental/symbolic_shapes.py:4449] [0/0] d0 is not in var_ranges, defaulting to unknown range.\n",
            "W1003 15:14:03.514000 134229452801600 torch/fx/experimental/symbolic_shapes.py:4449] [0/0] d0 is not in var_ranges, defaulting to unknown range.\n",
            "W1003 15:14:03.801000 134229452801600 torch/fx/experimental/symbolic_shapes.py:4449] [0/0] d0 is not in var_ranges, defaulting to unknown range.\n",
            "W1003 15:14:05.171000 134229452801600 torch/fx/experimental/symbolic_shapes.py:4449] [0/0] d0 is not in var_ranges, defaulting to unknown range.\n",
            "W1003 15:14:06.424000 134229452801600 torch/fx/experimental/symbolic_shapes.py:4449] [0/0] q0 is not in var_ranges, defaulting to unknown range.\n",
            "W1003 15:14:06.481000 134229452801600 torch/fx/experimental/symbolic_shapes.py:4449] [0/0] z0 is not in var_ranges, defaulting to unknown range.\n",
            "W1003 15:14:07.035000 134229452801600 torch/fx/experimental/symbolic_shapes.py:4449] [0/0] q0 is not in var_ranges, defaulting to unknown range.\n",
            "W1003 15:14:07.092000 134229452801600 torch/fx/experimental/symbolic_shapes.py:4449] [0/0] z0 is not in var_ranges, defaulting to unknown range.\n",
            "W1003 15:14:07.380000 134229452801600 torch/fx/experimental/symbolic_shapes.py:4449] [0/0] q0 is not in var_ranges, defaulting to unknown range.\n",
            "W1003 15:14:07.435000 134229452801600 torch/fx/experimental/symbolic_shapes.py:4449] [0/0] z0 is not in var_ranges, defaulting to unknown range.\n",
            "W1003 15:14:08.082000 134229452801600 torch/fx/experimental/symbolic_shapes.py:4449] [0/0] q0 is not in var_ranges, defaulting to unknown range.\n",
            "W1003 15:14:08.137000 134229452801600 torch/fx/experimental/symbolic_shapes.py:4449] [0/0] z0 is not in var_ranges, defaulting to unknown range.\n",
            "W1003 15:14:09.302000 134229452801600 torch/fx/experimental/symbolic_shapes.py:4449] [0/0] q0 is not in var_ranges, defaulting to unknown range.\n",
            "W1003 15:14:09.429000 134229452801600 torch/fx/experimental/symbolic_shapes.py:4449] [0/0] z0 is not in var_ranges, defaulting to unknown range.\n",
            "W1003 15:14:10.473000 134229452801600 torch/fx/experimental/symbolic_shapes.py:4449] [0/0] x0 is not in var_ranges, defaulting to unknown range.\n",
            "W1003 15:14:10.833000 134229452801600 torch/fx/experimental/symbolic_shapes.py:4449] [0/0] x0 is not in var_ranges, defaulting to unknown range.\n",
            "W1003 15:14:11.035000 134229452801600 torch/fx/experimental/symbolic_shapes.py:4449] [0/0] x0 is not in var_ranges, defaulting to unknown range.\n",
            "W1003 15:14:11.249000 134229452801600 torch/fx/experimental/symbolic_shapes.py:4449] [0/0] x0 is not in var_ranges, defaulting to unknown range.\n",
            "W1003 15:14:12.199000 134229452801600 torch/fx/experimental/symbolic_shapes.py:4449] [0/0] x1 is not in var_ranges, defaulting to unknown range.\n",
            "W1003 15:17:18.402000 134233792705152 torch/fx/experimental/symbolic_shapes.py:4449] [0/1] xindex is not in var_ranges, defaulting to unknown range.\n",
            "W1003 15:17:18.519000 134233792705152 torch/fx/experimental/symbolic_shapes.py:4449] [0/1] xindex is not in var_ranges, defaulting to unknown range.\n",
            "W1003 15:17:18.585000 134233792705152 torch/fx/experimental/symbolic_shapes.py:4449] [0/1] xindex is not in var_ranges, defaulting to unknown range.\n",
            "W1003 15:17:18.652000 134233792705152 torch/fx/experimental/symbolic_shapes.py:4449] [0/1] xindex is not in var_ranges, defaulting to unknown range.\n",
            "W1003 15:17:18.719000 134233792705152 torch/fx/experimental/symbolic_shapes.py:4449] [0/1] xindex is not in var_ranges, defaulting to unknown range.\n",
            "2024-10-03 15:17:36.661600: train_loss -0.2885\n",
            "2024-10-03 15:17:36.661853: val_loss -0.4581\n",
            "2024-10-03 15:17:36.661950: Pseudo dice [0.6415]\n",
            "2024-10-03 15:17:36.662040: Epoch time: 254.88 s\n",
            "2024-10-03 15:17:36.662177: Yayy! New best EMA pseudo Dice: 0.6415\n",
            "2024-10-03 15:17:38.289125: \n",
            "2024-10-03 15:17:38.289276: Epoch 1\n",
            "2024-10-03 15:17:38.289528: Current learning rate: 0.00955\n",
            "2024-10-03 15:20:31.464726: train_loss -0.5336\n",
            "2024-10-03 15:20:31.465066: val_loss -0.5494\n",
            "2024-10-03 15:20:31.465201: Pseudo dice [0.6923]\n",
            "2024-10-03 15:20:31.465305: Epoch time: 173.18 s\n",
            "2024-10-03 15:20:31.465492: Yayy! New best EMA pseudo Dice: 0.6465\n",
            "2024-10-03 15:20:33.546005: \n",
            "2024-10-03 15:20:33.546206: Epoch 2\n",
            "2024-10-03 15:20:33.546358: Current learning rate: 0.0091\n",
            "2024-10-03 15:23:26.160005: train_loss -0.5922\n",
            "2024-10-03 15:23:26.160325: val_loss -0.56\n",
            "2024-10-03 15:23:26.160457: Pseudo dice [0.6805]\n",
            "2024-10-03 15:23:26.160585: Epoch time: 172.62 s\n",
            "2024-10-03 15:23:26.160674: Yayy! New best EMA pseudo Dice: 0.6499\n",
            "2024-10-03 15:23:28.325587: \n",
            "2024-10-03 15:23:28.325953: Epoch 3\n",
            "2024-10-03 15:23:28.326096: Current learning rate: 0.00864\n",
            "2024-10-03 15:26:20.658412: train_loss -0.6011\n",
            "2024-10-03 15:26:20.658645: val_loss -0.6905\n",
            "2024-10-03 15:26:20.658741: Pseudo dice [0.7815]\n",
            "2024-10-03 15:26:20.658840: Epoch time: 172.33 s\n",
            "2024-10-03 15:26:20.658914: Yayy! New best EMA pseudo Dice: 0.6631\n",
            "2024-10-03 15:26:22.665595: \n",
            "2024-10-03 15:26:22.665803: Epoch 4\n",
            "2024-10-03 15:26:22.665934: Current learning rate: 0.00818\n",
            "2024-10-03 15:29:14.935742: train_loss -0.6663\n",
            "2024-10-03 15:29:14.935974: val_loss -0.6709\n",
            "2024-10-03 15:29:14.936117: Pseudo dice [0.7765]\n",
            "2024-10-03 15:29:14.936277: Epoch time: 172.27 s\n",
            "2024-10-03 15:29:14.936365: Yayy! New best EMA pseudo Dice: 0.6744\n",
            "2024-10-03 15:29:17.043269: \n",
            "2024-10-03 15:29:17.043575: Epoch 5\n",
            "2024-10-03 15:29:17.043703: Current learning rate: 0.00772\n",
            "2024-10-03 15:32:09.370752: train_loss -0.6399\n",
            "2024-10-03 15:32:09.371019: val_loss -0.7089\n",
            "2024-10-03 15:32:09.371145: Pseudo dice [0.8173]\n",
            "2024-10-03 15:32:09.371355: Epoch time: 172.33 s\n",
            "2024-10-03 15:32:09.371535: Yayy! New best EMA pseudo Dice: 0.6887\n",
            "2024-10-03 15:32:11.362262: \n",
            "2024-10-03 15:32:11.362572: Epoch 6\n",
            "2024-10-03 15:32:11.362750: Current learning rate: 0.00725\n",
            "2024-10-03 15:35:03.671388: train_loss -0.6571\n",
            "2024-10-03 15:35:03.671777: val_loss -0.7423\n",
            "2024-10-03 15:35:03.671889: Pseudo dice [0.8314]\n",
            "2024-10-03 15:35:03.671978: Epoch time: 172.31 s\n",
            "2024-10-03 15:35:03.672050: Yayy! New best EMA pseudo Dice: 0.703\n",
            "2024-10-03 15:35:05.640022: \n",
            "2024-10-03 15:35:05.640238: Epoch 7\n",
            "2024-10-03 15:35:05.640427: Current learning rate: 0.00679\n",
            "2024-10-03 15:37:57.739944: train_loss -0.748\n",
            "2024-10-03 15:37:57.740243: val_loss -0.7576\n",
            "2024-10-03 15:37:57.740344: Pseudo dice [0.8333]\n",
            "2024-10-03 15:37:57.740440: Epoch time: 172.1 s\n",
            "2024-10-03 15:37:57.740512: Yayy! New best EMA pseudo Dice: 0.716\n",
            "2024-10-03 15:37:59.907455: \n",
            "2024-10-03 15:37:59.907790: Epoch 8\n",
            "2024-10-03 15:37:59.907933: Current learning rate: 0.00631\n",
            "2024-10-03 15:40:52.071403: train_loss -0.7756\n",
            "2024-10-03 15:40:52.071671: val_loss -0.721\n",
            "2024-10-03 15:40:52.071758: Pseudo dice [0.7984]\n",
            "2024-10-03 15:40:52.071843: Epoch time: 172.17 s\n",
            "2024-10-03 15:40:52.071930: Yayy! New best EMA pseudo Dice: 0.7242\n",
            "2024-10-03 15:40:54.094737: \n",
            "2024-10-03 15:40:54.094911: Epoch 9\n",
            "2024-10-03 15:40:54.095033: Current learning rate: 0.00584\n",
            "2024-10-03 15:43:46.432660: train_loss -0.7541\n",
            "2024-10-03 15:43:46.432909: val_loss -0.778\n",
            "2024-10-03 15:43:46.433005: Pseudo dice [0.837]\n",
            "2024-10-03 15:43:46.433136: Epoch time: 172.34 s\n",
            "2024-10-03 15:43:46.433461: Yayy! New best EMA pseudo Dice: 0.7355\n",
            "2024-10-03 15:43:48.575960: \n",
            "2024-10-03 15:43:48.576287: Epoch 10\n",
            "2024-10-03 15:43:48.576422: Current learning rate: 0.00536\n",
            "2024-10-03 15:46:40.806996: train_loss -0.7284\n",
            "2024-10-03 15:46:40.807299: val_loss -0.7405\n",
            "2024-10-03 15:46:40.807400: Pseudo dice [0.8339]\n",
            "2024-10-03 15:46:40.807489: Epoch time: 172.23 s\n",
            "2024-10-03 15:46:40.807557: Yayy! New best EMA pseudo Dice: 0.7454\n",
            "2024-10-03 15:46:42.912246: \n",
            "2024-10-03 15:46:42.912578: Epoch 11\n",
            "2024-10-03 15:46:42.912709: Current learning rate: 0.00487\n",
            "2024-10-03 15:49:35.244440: train_loss -0.7673\n",
            "2024-10-03 15:49:35.244749: val_loss -0.7885\n",
            "2024-10-03 15:49:35.244853: Pseudo dice [0.8737]\n",
            "2024-10-03 15:49:35.244943: Epoch time: 172.33 s\n",
            "2024-10-03 15:49:35.245007: Yayy! New best EMA pseudo Dice: 0.7582\n",
            "2024-10-03 15:49:37.306713: \n",
            "2024-10-03 15:49:37.307011: Epoch 12\n",
            "2024-10-03 15:49:37.307161: Current learning rate: 0.00438\n",
            "2024-10-03 15:52:29.573151: train_loss -0.8099\n",
            "2024-10-03 15:52:29.573401: val_loss -0.8408\n",
            "2024-10-03 15:52:29.573545: Pseudo dice [0.8963]\n",
            "2024-10-03 15:52:29.573737: Epoch time: 172.27 s\n",
            "2024-10-03 15:52:29.573833: Yayy! New best EMA pseudo Dice: 0.772\n",
            "2024-10-03 15:52:31.592439: \n",
            "2024-10-03 15:52:31.592711: Epoch 13\n",
            "2024-10-03 15:52:31.592886: Current learning rate: 0.00389\n",
            "2024-10-03 15:55:23.747337: train_loss -0.8185\n",
            "2024-10-03 15:55:23.747599: val_loss -0.7777\n",
            "2024-10-03 15:55:23.747689: Pseudo dice [0.8497]\n",
            "2024-10-03 15:55:23.747776: Epoch time: 172.16 s\n",
            "2024-10-03 15:55:23.747845: Yayy! New best EMA pseudo Dice: 0.7798\n",
            "2024-10-03 15:55:26.477874: \n",
            "2024-10-03 15:55:26.478180: Epoch 14\n",
            "2024-10-03 15:55:26.478319: Current learning rate: 0.00338\n",
            "2024-10-03 15:58:18.668112: train_loss -0.8172\n",
            "2024-10-03 15:58:18.668469: val_loss -0.8745\n",
            "2024-10-03 15:58:18.668594: Pseudo dice [0.9263]\n",
            "2024-10-03 15:58:18.668687: Epoch time: 172.19 s\n",
            "2024-10-03 15:58:18.668759: Yayy! New best EMA pseudo Dice: 0.7944\n",
            "2024-10-03 15:58:20.739201: \n",
            "2024-10-03 15:58:20.739528: Epoch 15\n",
            "2024-10-03 15:58:20.739660: Current learning rate: 0.00287\n",
            "2024-10-03 16:01:12.921634: train_loss -0.8198\n",
            "2024-10-03 16:01:12.921863: val_loss -0.8138\n",
            "2024-10-03 16:01:12.921951: Pseudo dice [0.8784]\n",
            "2024-10-03 16:01:12.922060: Epoch time: 172.18 s\n",
            "2024-10-03 16:01:12.922196: Yayy! New best EMA pseudo Dice: 0.8028\n",
            "2024-10-03 16:01:15.145824: \n",
            "2024-10-03 16:01:15.146149: Epoch 16\n",
            "2024-10-03 16:01:15.146305: Current learning rate: 0.00235\n",
            "2024-10-03 16:04:07.416958: train_loss -0.8391\n",
            "2024-10-03 16:04:07.417226: val_loss -0.8826\n",
            "2024-10-03 16:04:07.417319: Pseudo dice [0.9225]\n",
            "2024-10-03 16:04:07.417405: Epoch time: 172.27 s\n",
            "2024-10-03 16:04:07.417501: Yayy! New best EMA pseudo Dice: 0.8148\n",
            "2024-10-03 16:04:09.517324: \n",
            "2024-10-03 16:04:09.517546: Epoch 17\n",
            "2024-10-03 16:04:09.517676: Current learning rate: 0.00181\n",
            "2024-10-03 16:07:01.702070: train_loss -0.8627\n",
            "2024-10-03 16:07:01.702352: val_loss -0.8988\n",
            "2024-10-03 16:07:01.702454: Pseudo dice [0.937]\n",
            "2024-10-03 16:07:01.702543: Epoch time: 172.19 s\n",
            "2024-10-03 16:07:01.702669: Yayy! New best EMA pseudo Dice: 0.827\n",
            "2024-10-03 16:07:03.776288: \n",
            "2024-10-03 16:07:03.776508: Epoch 18\n",
            "2024-10-03 16:07:03.776635: Current learning rate: 0.00126\n",
            "2024-10-03 16:09:56.005591: train_loss -0.8623\n",
            "2024-10-03 16:09:56.005920: val_loss -0.8413\n",
            "2024-10-03 16:09:56.006050: Pseudo dice [0.8861]\n",
            "2024-10-03 16:09:56.006214: Epoch time: 172.23 s\n",
            "2024-10-03 16:09:56.006331: Yayy! New best EMA pseudo Dice: 0.8329\n",
            "2024-10-03 16:09:58.059613: \n",
            "2024-10-03 16:09:58.059916: Epoch 19\n",
            "2024-10-03 16:09:58.060106: Current learning rate: 0.00067\n",
            "2024-10-03 16:12:50.270353: train_loss -0.8612\n",
            "2024-10-03 16:12:50.270654: val_loss -0.8723\n",
            "2024-10-03 16:12:50.270765: Pseudo dice [0.9164]\n",
            "2024-10-03 16:12:50.270854: Epoch time: 172.21 s\n",
            "2024-10-03 16:12:50.270924: Yayy! New best EMA pseudo Dice: 0.8413\n",
            "2024-10-03 16:12:52.709018: Training done.\n",
            "2024-10-03 16:12:52.808871: predicting spleen_002\n",
            "2024-10-03 16:12:52.810236: spleen_002, shape torch.Size([1, 180, 511, 511]), rank 0\n",
            "2024-10-03 16:15:15.330753: predicting spleen_008\n",
            "2024-10-03 16:15:15.336715: spleen_008, shape torch.Size([1, 93, 505, 505]), rank 0\n",
            "2024-10-03 16:16:14.356981: predicting spleen_010\n",
            "2024-10-03 16:16:14.362349: spleen_010, shape torch.Size([1, 110, 628, 628]), rank 0\n",
            "2024-10-03 16:17:39.168476: predicting spleen_013\n",
            "2024-10-03 16:17:39.173923: spleen_013, shape torch.Size([1, 77, 477, 477]), rank 0\n",
            "2024-10-03 16:18:04.456568: predicting spleen_014\n",
            "2024-10-03 16:18:04.459125: spleen_014, shape torch.Size([1, 108, 548, 548]), rank 0\n",
            "2024-10-03 16:19:03.492751: predicting spleen_016\n",
            "2024-10-03 16:19:03.497008: spleen_016, shape torch.Size([1, 195, 510, 510]), rank 0\n",
            "2024-10-03 16:21:01.562266: predicting spleen_017\n",
            "2024-10-03 16:21:01.568800: spleen_017, shape torch.Size([1, 95, 395, 395]), rank 0\n",
            "2024-10-03 16:21:39.174750: predicting spleen_019\n",
            "2024-10-03 16:21:39.177035: spleen_019, shape torch.Size([1, 102, 513, 513]), rank 0\n",
            "2024-10-03 16:22:37.879017: predicting spleen_020\n",
            "2024-10-03 16:22:37.882831: spleen_020, shape torch.Size([1, 101, 601, 601]), rank 0\n",
            "2024-10-03 16:24:01.866367: predicting spleen_022\n",
            "2024-10-03 16:24:01.871176: spleen_022, shape torch.Size([1, 89, 623, 623]), rank 0\n",
            "2024-10-03 16:25:26.133661: predicting spleen_024\n",
            "2024-10-03 16:25:26.138243: spleen_024, shape torch.Size([1, 188, 472, 472]), rank 0\n",
            "2024-10-03 16:26:41.643156: predicting spleen_025\n",
            "2024-10-03 16:26:41.648051: spleen_025, shape torch.Size([1, 87, 462, 462]), rank 0\n",
            "2024-10-03 16:27:19.336806: predicting spleen_026\n",
            "2024-10-03 16:27:19.341239: spleen_026, shape torch.Size([1, 130, 440, 440]), rank 0\n",
            "2024-10-03 16:28:09.431491: predicting spleen_028\n",
            "2024-10-03 16:28:09.435445: spleen_028, shape torch.Size([1, 88, 603, 603]), rank 0\n",
            "2024-10-03 16:29:33.831833: predicting spleen_029\n",
            "2024-10-03 16:29:33.838998: spleen_029, shape torch.Size([1, 206, 553, 553]), rank 0\n",
            "2024-10-03 16:31:50.563375: predicting spleen_031\n",
            "2024-10-03 16:31:50.570913: spleen_031, shape torch.Size([1, 112, 476, 476]), rank 0\n",
            "2024-10-03 16:32:28.432964: predicting spleen_032\n",
            "2024-10-03 16:32:28.436862: spleen_032, shape torch.Size([1, 208, 580, 580]), rank 0\n",
            "2024-10-03 16:35:44.974241: predicting spleen_038\n",
            "2024-10-03 16:35:44.982005: spleen_038, shape torch.Size([1, 200, 572, 572]), rank 0\n",
            "2024-10-03 16:38:01.558994: predicting spleen_040\n",
            "2024-10-03 16:38:01.571697: spleen_040, shape torch.Size([1, 186, 482, 482]), rank 0\n",
            "2024-10-03 16:39:58.654121: predicting spleen_041\n",
            "2024-10-03 16:39:58.659597: spleen_041, shape torch.Size([1, 188, 583, 583]), rank 0\n",
            "2024-10-03 16:42:47.416717: predicting spleen_044\n",
            "2024-10-03 16:42:47.424209: spleen_044, shape torch.Size([1, 184, 560, 560]), rank 0\n",
            "2024-10-03 16:44:44.120019: predicting spleen_046\n",
            "2024-10-03 16:44:44.126745: spleen_046, shape torch.Size([1, 198, 407, 407]), rank 0\n",
            "2024-10-03 16:46:11.891365: predicting spleen_047\n",
            "2024-10-03 16:46:11.895968: spleen_047, shape torch.Size([1, 176, 505, 505]), rank 0\n",
            "2024-10-03 16:48:09.202699: predicting spleen_049\n",
            "2024-10-03 16:48:09.208219: spleen_049, shape torch.Size([1, 98, 549, 549]), rank 0\n",
            "2024-10-03 16:49:08.158043: predicting spleen_052\n",
            "2024-10-03 16:49:08.162232: spleen_052, shape torch.Size([1, 179, 518, 518]), rank 0\n",
            "2024-10-03 16:51:05.918033: predicting spleen_053\n",
            "2024-10-03 16:51:05.923501: spleen_053, shape torch.Size([1, 187, 538, 538]), rank 0\n",
            "2024-10-03 16:53:03.518596: predicting spleen_056\n",
            "2024-10-03 16:53:03.525133: spleen_056, shape torch.Size([1, 92, 450, 450]), rank 0\n",
            "2024-10-03 16:53:41.012816: predicting spleen_059\n",
            "2024-10-03 16:53:41.015625: spleen_059, shape torch.Size([1, 100, 612, 612]), rank 0\n",
            "2024-10-03 16:55:05.498972: predicting spleen_061\n",
            "2024-10-03 16:55:05.503976: spleen_061, shape torch.Size([1, 202, 498, 498]), rank 0\n",
            "2024-10-03 16:57:22.467758: predicting spleen_062\n",
            "2024-10-03 16:57:22.473625: spleen_062, shape torch.Size([1, 160, 435, 435]), rank 0\n",
            "2024-10-03 16:58:42.942903: Validation complete\n",
            "2024-10-03 16:58:42.943028: Mean Validation Dice:  0.8950742009330551\n"
          ]
        }
      ]
    },
    {
      "cell_type": "markdown",
      "source": [
        "# Prediction"
      ],
      "metadata": {
        "id": "Ti4IHUTA4Gcd"
      }
    },
    {
      "cell_type": "code",
      "source": [
        "!nnUNetv2_predict -i /content/nnUNet_raw/Dataset400_Spleen/imagesTs -o nnUNet_dirs/nnUNet_raw/nnUNet_tests/ -d 400 -c 3d_fullres -tr nnUNetTrainer_20epochs -f all"
      ],
      "metadata": {
        "colab": {
          "base_uri": "https://localhost:8080/"
        },
        "id": "JUURdzn7bAvr",
        "outputId": "8f28778c-0fb3-4958-f998-a7a46e4a771c"
      },
      "execution_count": null,
      "outputs": [
        {
          "output_type": "stream",
          "name": "stdout",
          "text": [
            "\n",
            "#######################################################################\n",
            "Please cite the following paper when using nnU-Net:\n",
            "Isensee, F., Jaeger, P. F., Kohl, S. A., Petersen, J., & Maier-Hein, K. H. (2021). nnU-Net: a self-configuring method for deep learning-based biomedical image segmentation. Nature methods, 18(2), 203-211.\n",
            "#######################################################################\n",
            "\n",
            "/usr/local/lib/python3.10/dist-packages/nnunetv2/inference/predict_from_raw_data.py:84: FutureWarning: You are using `torch.load` with `weights_only=False` (the current default value), which uses the default pickle module implicitly. It is possible to construct malicious pickle data which will execute arbitrary code during unpickling (See https://github.com/pytorch/pytorch/blob/main/SECURITY.md#untrusted-models for more details). In a future release, the default value for `weights_only` will be flipped to `True`. This limits the functions that could be executed during unpickling. Arbitrary objects will no longer be allowed to be loaded via this mode unless they are explicitly allowlisted by the user via `torch.serialization.add_safe_globals`. We recommend you start setting `weights_only=True` for any use case where you don't have full control of the loaded file. Please open an issue on GitHub for any issues related to this experimental feature.\n",
            "  checkpoint = torch.load(join(model_training_output_dir, f'fold_{f}', checkpoint_name),\n",
            "There are 11 cases in the source folder\n",
            "I am process 0 out of 1 (max process ID is 0, we start counting with 0!)\n",
            "There are 11 cases that I would like to predict\n",
            "\n",
            "Predicting spleen_003:\n",
            "perform_everything_on_device: True\n",
            "100% 32/32 [00:32<00:00,  1.03s/it]\n",
            "sending off prediction to background worker for resampling and export\n",
            "done with spleen_003\n",
            "\n",
            "Predicting spleen_006:\n",
            "perform_everything_on_device: True\n",
            "100% 108/108 [01:43<00:00,  1.05it/s]\n",
            "sending off prediction to background worker for resampling and export\n",
            "done with spleen_006\n",
            "\n",
            "Predicting spleen_009:\n",
            "perform_everything_on_device: True\n",
            "100% 32/32 [00:30<00:00,  1.06it/s]\n",
            "sending off prediction to background worker for resampling and export\n",
            "done with spleen_009\n",
            "\n",
            "Predicting spleen_012:\n",
            "perform_everything_on_device: True\n",
            "100% 75/75 [01:11<00:00,  1.05it/s]\n",
            "sending off prediction to background worker for resampling and export\n",
            "done with spleen_012\n",
            "\n",
            "Predicting spleen_018:\n",
            "perform_everything_on_device: True\n",
            "100% 108/108 [01:42<00:00,  1.05it/s]\n",
            "sending off prediction to background worker for resampling and export\n",
            "done with spleen_018\n",
            "\n",
            "Predicting spleen_021:\n",
            "perform_everything_on_device: True\n",
            "100% 48/48 [00:45<00:00,  1.06it/s]\n",
            "sending off prediction to background worker for resampling and export\n",
            "done with spleen_021\n",
            "\n",
            "Predicting spleen_027:\n",
            "perform_everything_on_device: True\n",
            "100% 150/150 [02:23<00:00,  1.05it/s]\n",
            "sending off prediction to background worker for resampling and export\n",
            "done with spleen_027\n",
            "\n",
            "Predicting spleen_033:\n",
            "perform_everything_on_device: True\n",
            "100% 180/180 [02:52<00:00,  1.05it/s]\n",
            "sending off prediction to background worker for resampling and export\n",
            "done with spleen_033\n",
            "\n",
            "Predicting spleen_045:\n",
            "perform_everything_on_device: True\n",
            "100% 216/216 [03:25<00:00,  1.05it/s]\n",
            "sending off prediction to background worker for resampling and export\n",
            "done with spleen_045\n",
            "\n",
            "Predicting spleen_060:\n",
            "perform_everything_on_device: True\n",
            "100% 150/150 [02:23<00:00,  1.04it/s]\n",
            "sending off prediction to background worker for resampling and export\n",
            "done with spleen_060\n",
            "\n",
            "Predicting spleen_063:\n",
            "perform_everything_on_device: True\n",
            "100% 100/100 [01:35<00:00,  1.04it/s]\n",
            "sending off prediction to background worker for resampling and export\n",
            "done with spleen_063\n"
          ]
        }
      ]
    },
    {
      "cell_type": "markdown",
      "source": [
        "# Evaluation"
      ],
      "metadata": {
        "id": "2XogbZyT4K0G"
      }
    },
    {
      "cell_type": "code",
      "source": [
        "!nnUNetv2_evaluate_folder /content/nnUNet_dirs/nnUNet_raw/gt/ /content/nnUNet_dirs/nnUNet_raw/nnUNet_tests -djfile /content/nnUNet_results/Dataset400_Spleen/nnUNetTrainer_20epochs__nnUNetPlans__3d_fullres/dataset.json -pfile /content/nnUNet_results/Dataset400_Spleen/nnUNetTrainer_20epochs__nnUNetPlans__3d_fullres/plans.json"
      ],
      "metadata": {
        "colab": {
          "base_uri": "https://localhost:8080/"
        },
        "id": "Q4WL3kA0ez2Z",
        "outputId": "f05fcc2c-4b3e-4f67-bfee-0bce656a9dd7"
      },
      "execution_count": null,
      "outputs": [
        {
          "output_type": "stream",
          "name": "stdout",
          "text": [
            "Using <class 'nnunetv2.imageio.nibabel_reader_writer.NibabelIO'> as reader/writer\n"
          ]
        }
      ]
    },
    {
      "cell_type": "markdown",
      "source": [
        "# Ziping and downloading the reults"
      ],
      "metadata": {
        "id": "pj0oStEQlgL2"
      }
    },
    {
      "cell_type": "code",
      "source": [
        "!zip -r nnUNet_tests_results.zip /content/nnUNet_dirs/nnUNet_raw/nnUNet_tests"
      ],
      "metadata": {
        "id": "1JLkzWPtupqm",
        "colab": {
          "base_uri": "https://localhost:8080/"
        },
        "outputId": "f34d84fb-0ff3-4c79-ada5-fbf71a296f02"
      },
      "execution_count": null,
      "outputs": [
        {
          "output_type": "stream",
          "name": "stdout",
          "text": [
            "  adding: content/nnUNet_dirs/nnUNet_raw/nnUNet_tests/ (stored 0%)\n",
            "  adding: content/nnUNet_dirs/nnUNet_raw/nnUNet_tests/dataset.json (deflated 88%)\n",
            "  adding: content/nnUNet_dirs/nnUNet_raw/nnUNet_tests/spleen_045.nii (deflated 100%)\n",
            "  adding: content/nnUNet_dirs/nnUNet_raw/nnUNet_tests/spleen_006.nii (deflated 100%)\n",
            "  adding: content/nnUNet_dirs/nnUNet_raw/nnUNet_tests/plans.json (deflated 92%)\n",
            "  adding: content/nnUNet_dirs/nnUNet_raw/nnUNet_tests/predict_from_raw_data_args.json (deflated 44%)\n",
            "  adding: content/nnUNet_dirs/nnUNet_raw/nnUNet_tests/spleen_018.nii (deflated 100%)\n",
            "  adding: content/nnUNet_dirs/nnUNet_raw/nnUNet_tests/spleen_060.nii (deflated 100%)\n",
            "  adding: content/nnUNet_dirs/nnUNet_raw/nnUNet_tests/summary.json (deflated 85%)\n",
            "  adding: content/nnUNet_dirs/nnUNet_raw/nnUNet_tests/spleen_021.nii (deflated 100%)\n",
            "  adding: content/nnUNet_dirs/nnUNet_raw/nnUNet_tests/.ipynb_checkpoints/ (stored 0%)\n",
            "  adding: content/nnUNet_dirs/nnUNet_raw/nnUNet_tests/spleen_063.nii (deflated 100%)\n",
            "  adding: content/nnUNet_dirs/nnUNet_raw/nnUNet_tests/spleen_033.nii (deflated 100%)\n",
            "  adding: content/nnUNet_dirs/nnUNet_raw/nnUNet_tests/spleen_027.nii (deflated 100%)\n",
            "  adding: content/nnUNet_dirs/nnUNet_raw/nnUNet_tests/spleen_012.nii (deflated 100%)\n",
            "  adding: content/nnUNet_dirs/nnUNet_raw/nnUNet_tests/spleen_009.nii (deflated 100%)\n",
            "  adding: content/nnUNet_dirs/nnUNet_raw/nnUNet_tests/spleen_003.nii (deflated 100%)\n"
          ]
        }
      ]
    },
    {
      "cell_type": "code",
      "source": [
        "from google.colab import files\n",
        "files.download('/content/nnUNet_tests_results.zip')"
      ],
      "metadata": {
        "id": "YSDGdfxQuoRb",
        "colab": {
          "base_uri": "https://localhost:8080/",
          "height": 17
        },
        "outputId": "5b94bdb3-2666-4c75-9396-8f524e1b576f"
      },
      "execution_count": null,
      "outputs": [
        {
          "output_type": "display_data",
          "data": {
            "text/plain": [
              "<IPython.core.display.Javascript object>"
            ],
            "application/javascript": [
              "\n",
              "    async function download(id, filename, size) {\n",
              "      if (!google.colab.kernel.accessAllowed) {\n",
              "        return;\n",
              "      }\n",
              "      const div = document.createElement('div');\n",
              "      const label = document.createElement('label');\n",
              "      label.textContent = `Downloading \"${filename}\": `;\n",
              "      div.appendChild(label);\n",
              "      const progress = document.createElement('progress');\n",
              "      progress.max = size;\n",
              "      div.appendChild(progress);\n",
              "      document.body.appendChild(div);\n",
              "\n",
              "      const buffers = [];\n",
              "      let downloaded = 0;\n",
              "\n",
              "      const channel = await google.colab.kernel.comms.open(id);\n",
              "      // Send a message to notify the kernel that we're ready.\n",
              "      channel.send({})\n",
              "\n",
              "      for await (const message of channel.messages) {\n",
              "        // Send a message to notify the kernel that we're ready.\n",
              "        channel.send({})\n",
              "        if (message.buffers) {\n",
              "          for (const buffer of message.buffers) {\n",
              "            buffers.push(buffer);\n",
              "            downloaded += buffer.byteLength;\n",
              "            progress.value = downloaded;\n",
              "          }\n",
              "        }\n",
              "      }\n",
              "      const blob = new Blob(buffers, {type: 'application/binary'});\n",
              "      const a = document.createElement('a');\n",
              "      a.href = window.URL.createObjectURL(blob);\n",
              "      a.download = filename;\n",
              "      div.appendChild(a);\n",
              "      a.click();\n",
              "      div.remove();\n",
              "    }\n",
              "  "
            ]
          },
          "metadata": {}
        },
        {
          "output_type": "display_data",
          "data": {
            "text/plain": [
              "<IPython.core.display.Javascript object>"
            ],
            "application/javascript": [
              "download(\"download_5f4860e9-2d94-45c0-b184-af84141d9b25\", \"nnUNet_tests_results.zip\", 401495)"
            ]
          },
          "metadata": {}
        }
      ]
    }
  ]
}